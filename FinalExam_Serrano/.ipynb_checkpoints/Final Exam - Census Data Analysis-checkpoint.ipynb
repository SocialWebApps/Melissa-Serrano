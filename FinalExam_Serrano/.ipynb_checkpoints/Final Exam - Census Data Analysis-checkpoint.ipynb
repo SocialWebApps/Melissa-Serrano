{
 "metadata": {
  "name": "",
  "signature": "sha256:b8fa708fc45b5ebdc928ae7c00f1453e656e2c36a99f65da8c0c80a9f4ff6899"
 },
 "nbformat": 3,
 "nbformat_minor": 0,
 "worksheets": [
  {
   "cells": [
    {
     "cell_type": "heading",
     "level": 1,
     "metadata": {},
     "source": [
      "Final Exam - Option 1"
     ]
    },
    {
     "cell_type": "heading",
     "level": 2,
     "metadata": {},
     "source": [
      "Census Data Analysis"
     ]
    },
    {
     "cell_type": "heading",
     "level": 3,
     "metadata": {},
     "source": [
      "**Data was downloaded the data from this link: http://thedataweb.rm.census.gov/ftp/cps_ftp.html**"
     ]
    },
    {
     "cell_type": "markdown",
     "metadata": {},
     "source": [
      "Download the data disctionary for June 2015 and extract it in the same folder as this notebook."
     ]
    },
    {
     "cell_type": "markdown",
     "metadata": {},
     "source": [
      "I will extract the data from this dictionary for the income, education, and state."
     ]
    },
    {
     "cell_type": "markdown",
     "metadata": {},
     "source": [
      "Then I'll display this information on a google map, displaying a visualization of the data on it's corresponding state from which it was recorded."
     ]
    },
    {
     "cell_type": "code",
     "collapsed": false,
     "input": [
      "#This value and higher will be considered RICH\n",
      "RICH_FLAG = 15  # $100,000 or more\n",
      "#This value and higher will be considered EDUCATED\n",
      "EDUCATED_FLAG = 43  # Bachelor's Degree or higher"
     ],
     "language": "python",
     "metadata": {},
     "outputs": [],
     "prompt_number": 72
    },
    {
     "cell_type": "code",
     "collapsed": false,
     "input": [
      "#Values to State\n",
      "states_map = { 1:'AL',30:'MT',2:'AK',31:'NE',4:'AZ',32:'NV',5:'AR',33:'NH',\n",
      "              6:'CA',34:'NJ',8:'CO',35:'NM',9:'CT',36:'NY',10:'DE',37:'NC',\n",
      "              11:'DC',38:'ND',12:'FL',39:'OH',13:'GA',40:'OK',15:'HI',41:'OR',\n",
      "              16:'ID',42:'PA',17:'IL',44:'RI',18:'IN',45:'SC',19:'IA',46:'SD',\n",
      "              20:'KS',47:'TN',21:'KY',48:'TX',22:'LA',49:'UT',23:'ME',50:'VT',\n",
      "              24:'MD',51:'VA',25:'MA',53:'WA',26:'MI',54:'WV',27:'MN',55:'WI',\n",
      "              28:'MS',56:'WY',29:'MO' }"
     ],
     "language": "python",
     "metadata": {},
     "outputs": [],
     "prompt_number": 73
    },
    {
     "cell_type": "code",
     "collapsed": false,
     "input": [
      "#Create the lists we need to store the data we will retrieve\n",
      "#from the Census data dictionary\n",
      "income = []\n",
      "education = []\n",
      "ethnicity = []  \n",
      "state = []\n",
      "#to hold counts per state\n",
      "state_count = {} \n",
      "#to store values \n",
      "#[RICH AND EDUCATED, RICH AND NON-EDUCATED, \n",
      "# NON-RICH AND EDUCATED, NON-RICH AND NON-EDUCATED, total]\n",
      "state_count_template = [0,0,0,0,0]"
     ],
     "language": "python",
     "metadata": {},
     "outputs": [],
     "prompt_number": 74
    },
    {
     "cell_type": "code",
     "collapsed": false,
     "input": [
      "with open('jun15pub.dat') as data_file:\n",
      "    for line in data_file.readlines():\n",
      "\n",
      "        inc = int(line[38:40])\n",
      "        edu = int(line[136:138])\n",
      "        eth = int(line[138:140]) \n",
      "        st = states_map[int(line[92:94])]\n",
      "\n",
      "        income.append(inc)\n",
      "        education.append(edu)\n",
      "        ethnicity.append(eth)  ####\n",
      "        state.append(st)\n",
      "\n",
      "        if st not in state_count:\n",
      "            state_count[st] = state_count_template[:]\n",
      "\n",
      "        #total count in states of all categories\n",
      "        state_count[st][4] += 1\n",
      "\n",
      "        #RICH AND EDUCATED\n",
      "        if inc >= RICH_FLAG and edu >= EDUCATED_FLAG:\n",
      "            state_count[st][0] += 1\n",
      "        #RICH AND NON-EDUCATED\n",
      "        elif inc >= RICH_FLAG and edu < EDUCATED_FLAG: \n",
      "            state_count[st][1] += 1\n",
      "        #NON-RICH AND EDUCATED\n",
      "        elif inc < RICH_FLAG and edu >= EDUCATED_FLAG:\n",
      "            state_count[st][2] += 1\n",
      "        #NON-RICH AND NON-EDUCATED\n",
      "        else:\n",
      "            state_count[st][3] += 1\n",
      "     \n",
      "print state_count"
     ],
     "language": "python",
     "metadata": {},
     "outputs": [
      {
       "output_type": "stream",
       "stream": "stdout",
       "text": [
        "{'WA': [277, 399, 329, 1643, 2648], 'DE': [130, 185, 222, 1265, 1802], 'DC': [576, 173, 389, 1432, 2570], 'WI': [140, 226, 265, 1548, 2179], 'WV': [156, 272, 302, 2727, 3457], 'HI': [172, 326, 255, 1409, 2162], 'FL': [413, 499, 758, 4666, 6336], 'WY': [135, 344, 215, 1482, 2176], 'NH': [235, 331, 245, 1291, 2102], 'NJ': [487, 526, 382, 1741, 3136], 'NM': [136, 199, 283, 2084, 2702], 'TX': [677, 1040, 806, 5954, 8477], 'LA': [189, 366, 297, 2449, 3301], 'NC': [220, 274, 439, 2494, 3427], 'ND': [145, 321, 264, 1565, 2295], 'NE': [111, 246, 213, 1266, 1836], 'TN': [157, 202, 303, 1989, 2651], 'NY': [666, 721, 743, 4007, 6137], 'PA': [403, 536, 515, 2812, 4266], 'CA': [1337, 1708, 1348, 7759, 12152], 'NV': [105, 196, 201, 1306, 1808], 'VA': [404, 460, 314, 1655, 2833], 'CO': [230, 283, 308, 1222, 2043], 'AK': [139, 298, 166, 1252, 1855], 'AL': [124, 279, 304, 2246, 2953], 'AR': [138, 227, 232, 1988, 2585], 'VT': [198, 205, 355, 1472, 2230], 'IL': [524, 694, 554, 2500, 4272], 'GA': [185, 254, 405, 2372, 3216], 'IN': [154, 231, 248, 1635, 2268], 'IA': [131, 157, 179, 1236, 1703], 'OK': [125, 244, 207, 1771, 2347], 'AZ': [164, 239, 257, 1726, 2386], 'ID': [101, 229, 271, 1530, 2131], 'CT': [266, 332, 210, 988, 1796], 'ME': [108, 139, 175, 1166, 1588], 'MD': [334, 359, 198, 1200, 2091], 'MA': [441, 420, 327, 1644, 2832], 'OH': [300, 394, 455, 2886, 4035], 'UT': [158, 377, 257, 1527, 2319], 'MO': [156, 201, 256, 1432, 2045], 'MN': [175, 334, 251, 1321, 2081], 'MI': [223, 328, 371, 2420, 3342], 'RI': [170, 184, 212, 1022, 1588], 'KS': [176, 196, 211, 1271, 1854], 'MT': [164, 309, 426, 2117, 3016], 'MS': [97, 193, 271, 2254, 2815], 'SC': [183, 188, 217, 1654, 2242], 'KY': [113, 157, 189, 1543, 2002], 'OR': [199, 301, 299, 1447, 2246], 'SD': [103, 181, 204, 1195, 1683]}\n"
       ]
      }
     ],
     "prompt_number": 75
    },
    {
     "cell_type": "code",
     "collapsed": false,
     "input": [
      "#Use these to store each group count\n",
      "#with its corresponding state\n",
      "display_rich_educated = \"\"\n",
      "display_rich_noneducated = \"\"\n",
      "display_nonrich_educated = \"\"\n",
      "display_nonrich_noneducated = \"\"\n",
      "\n",
      "for state in state_count:\n",
      "    #store the percentage of population group of each state\n",
      "    rich_educated = state_count[state][0]/float(state_count[state][4])\n",
      "    rich_noneducated = state_count[state][1]/float(state_count[state][4])\n",
      "    nonrich_educated = state_count[state][2]/float(state_count[state][4])\n",
      "    nonrich_noneducated = state_count[state][3]/float(state_count[state][4])\n",
      "    #store these states with group value\n",
      "    #these will be used as a tooltip on our map\n",
      "    display_rich_educated += \"['US-%s', %f],\" % (state,rich_educated)\n",
      "    display_rich_noneducated += \"['US-%s', %f],\" % (state,rich_noneducated)\n",
      "    display_nonrich_educated += \"['US-%s', %f],\" % (state,nonrich_educated)\n",
      "    display_nonrich_noneducated += \"['US-%s', %f],\" % (state,nonrich_noneducated)\n",
      "\n",
      "print 'RICH AND EDUCATED: '    \n",
      "print display_rich_educated\n",
      "print 'RICH AND NON-EDUCATED: '\n",
      "print display_rich_noneducated\n",
      "print 'NON-RICH AND EDUCATED: '\n",
      "print display_nonrich_educated\n",
      "print 'NON-RICH AND NON-EDUCATED: '\n",
      "print display_nonrich_noneducated"
     ],
     "language": "python",
     "metadata": {},
     "outputs": [
      {
       "output_type": "stream",
       "stream": "stdout",
       "text": [
        "RICH AND EDUCATED: \n",
        "['US-WA', 0.104607],['US-DE', 0.072142],['US-DC', 0.224125],['US-WI', 0.064250],['US-WV', 0.045126],['US-HI', 0.079556],['US-FL', 0.065183],['US-WY', 0.062040],['US-NH', 0.111798],['US-NJ', 0.155293],['US-NM', 0.050333],['US-TX', 0.079863],['US-LA', 0.057255],['US-NC', 0.064196],['US-ND', 0.063181],['US-NE', 0.060458],['US-TN', 0.059223],['US-NY', 0.108522],['US-PA', 0.094468],['US-CA', 0.110023],['US-NV', 0.058075],['US-VA', 0.142605],['US-CO', 0.112580],['US-AK', 0.074933],['US-AL', 0.041991],['US-AR', 0.053385],['US-VT', 0.088789],['US-IL', 0.122659],['US-GA', 0.057525],['US-IN', 0.067901],['US-IA', 0.076923],['US-OK', 0.053259],['US-AZ', 0.068734],['US-ID', 0.047396],['US-CT', 0.148107],['US-ME', 0.068010],['US-MD', 0.159732],['US-MA', 0.155720],['US-OH', 0.074349],['US-UT', 0.068133],['US-MO', 0.076284],['US-MN', 0.084094],['US-MI', 0.066727],['US-RI', 0.107053],['US-KS', 0.094930],['US-MT', 0.054377],['US-MS', 0.034458],['US-SC', 0.081624],['US-KY', 0.056444],['US-OR', 0.088602],['US-SD', 0.061200],\n",
        "RICH AND NON-EDUCATED: \n",
        "['US-WA', 0.150680],['US-DE', 0.102664],['US-DC', 0.067315],['US-WI', 0.103717],['US-WV', 0.078681],['US-HI', 0.150786],['US-FL', 0.078756],['US-WY', 0.158088],['US-NH', 0.157469],['US-NJ', 0.167730],['US-NM', 0.073649],['US-TX', 0.122685],['US-LA', 0.110875],['US-NC', 0.079953],['US-ND', 0.139869],['US-NE', 0.133987],['US-TN', 0.076198],['US-NY', 0.117484],['US-PA', 0.125645],['US-CA', 0.140553],['US-NV', 0.108407],['US-VA', 0.162372],['US-CO', 0.138522],['US-AK', 0.160647],['US-AL', 0.094480],['US-AR', 0.087814],['US-VT', 0.091928],['US-IL', 0.162453],['US-GA', 0.078980],['US-IN', 0.101852],['US-IA', 0.092190],['US-OK', 0.103963],['US-AZ', 0.100168],['US-ID', 0.107461],['US-CT', 0.184855],['US-ME', 0.087531],['US-MD', 0.171688],['US-MA', 0.148305],['US-OH', 0.097646],['US-UT', 0.162570],['US-MO', 0.098289],['US-MN', 0.160500],['US-MI', 0.098145],['US-RI', 0.115869],['US-KS', 0.105717],['US-MT', 0.102454],['US-MS', 0.068561],['US-SC', 0.083854],['US-KY', 0.078422],['US-OR', 0.134016],['US-SD', 0.107546],\n",
        "NON-RICH AND EDUCATED: \n",
        "['US-WA', 0.124245],['US-DE', 0.123196],['US-DC', 0.151362],['US-WI', 0.121615],['US-WV', 0.087359],['US-HI', 0.117946],['US-FL', 0.119634],['US-WY', 0.098805],['US-NH', 0.116556],['US-NJ', 0.121811],['US-NM', 0.104737],['US-TX', 0.095081],['US-LA', 0.089973],['US-NC', 0.128100],['US-ND', 0.115033],['US-NE', 0.116013],['US-TN', 0.114296],['US-NY', 0.121069],['US-PA', 0.120722],['US-CA', 0.110928],['US-NV', 0.111173],['US-VA', 0.110837],['US-CO', 0.150759],['US-AK', 0.089488],['US-AL', 0.102946],['US-AR', 0.089749],['US-VT', 0.159193],['US-IL', 0.129682],['US-GA', 0.125933],['US-IN', 0.109347],['US-IA', 0.105109],['US-OK', 0.088198],['US-AZ', 0.107712],['US-ID', 0.127170],['US-CT', 0.116927],['US-ME', 0.110202],['US-MD', 0.094692],['US-MA', 0.115466],['US-OH', 0.112763],['US-UT', 0.110824],['US-MO', 0.125183],['US-MN', 0.120615],['US-MI', 0.111011],['US-RI', 0.133501],['US-KS', 0.113808],['US-MT', 0.141247],['US-MS', 0.096270],['US-SC', 0.096789],['US-KY', 0.094406],['US-OR', 0.133126],['US-SD', 0.121212],\n",
        "NON-RICH AND NON-EDUCATED: \n",
        "['US-WA', 0.620468],['US-DE', 0.701998],['US-DC', 0.557198],['US-WI', 0.710418],['US-WV', 0.788834],['US-HI', 0.651711],['US-FL', 0.736427],['US-WY', 0.681066],['US-NH', 0.614177],['US-NJ', 0.555166],['US-NM', 0.771281],['US-TX', 0.702371],['US-LA', 0.741896],['US-NC', 0.727750],['US-ND', 0.681917],['US-NE', 0.689542],['US-TN', 0.750283],['US-NY', 0.652925],['US-PA', 0.659165],['US-CA', 0.638496],['US-NV', 0.722345],['US-VA', 0.584186],['US-CO', 0.598140],['US-AK', 0.674933],['US-AL', 0.760582],['US-AR', 0.769052],['US-VT', 0.660090],['US-IL', 0.585206],['US-GA', 0.737562],['US-IN', 0.720899],['US-IA', 0.725778],['US-OK', 0.754580],['US-AZ', 0.723386],['US-ID', 0.717973],['US-CT', 0.550111],['US-ME', 0.734257],['US-MD', 0.573888],['US-MA', 0.580508],['US-OH', 0.715242],['US-UT', 0.658473],['US-MO', 0.700244],['US-MN', 0.634791],['US-MI', 0.724117],['US-RI', 0.643577],['US-KS', 0.685545],['US-MT', 0.701923],['US-MS', 0.800710],['US-SC', 0.737734],['US-KY', 0.770729],['US-OR', 0.644256],['US-SD', 0.710042],\n"
       ]
      }
     ],
     "prompt_number": 76
    },
    {
     "cell_type": "code",
     "collapsed": false,
     "input": [
      "#create google map with the data we set\n",
      "def write_html(grp,rep):\n",
      "    html = \"\"\n",
      "    with open('map.html') as f:\n",
      "        for line in f.readlines():\n",
      "            if 'REPLACE_ME' in line:\n",
      "                html += rep\n",
      "            else:\n",
      "                html += line\n",
      "\n",
      "    with open(\"index-%s.html\" % (grp),\"w\") as f:\n",
      "         f.write(html)\n",
      "\n",
      "write_html('rich_educated',display_rich_educated)\n",
      "write_html('rich_noneducated',display_rich_noneducated)\n",
      "write_html('nonrich_educated',display_nonrich_educated)\n",
      "write_html('nonrich_noneducated',display_nonrich_noneducated)"
     ],
     "language": "python",
     "metadata": {},
     "outputs": [],
     "prompt_number": 82
    },
    {
     "cell_type": "heading",
     "level": 3,
     "metadata": {},
     "source": [
      "Rich and Educated Map"
     ]
    },
    {
     "cell_type": "code",
     "collapsed": false,
     "input": [
      "from IPython.display import IFrame\n",
      "IFrame('index-rich_educated.html', width=700, height=400)"
     ],
     "language": "python",
     "metadata": {},
     "outputs": [
      {
       "html": [
        "\n",
        "        <iframe\n",
        "            width=\"700\"\n",
        "            height=400\"\n",
        "            src=\"index-rich_educated.html\"\n",
        "            frameborder=\"0\"\n",
        "            allowfullscreen\n",
        "        ></iframe>\n",
        "        "
       ],
       "metadata": {},
       "output_type": "pyout",
       "prompt_number": 83,
       "text": [
        "<IPython.lib.display.IFrame at 0x6224ba8>"
       ]
      }
     ],
     "prompt_number": 83
    },
    {
     "cell_type": "heading",
     "level": 3,
     "metadata": {},
     "source": [
      "Rich and Uneducated Map"
     ]
    },
    {
     "cell_type": "code",
     "collapsed": false,
     "input": [
      "from IPython.display import IFrame\n",
      "IFrame('index-rich_noneducated.html', width=700, height=400)"
     ],
     "language": "python",
     "metadata": {},
     "outputs": [
      {
       "html": [
        "\n",
        "        <iframe\n",
        "            width=\"700\"\n",
        "            height=400\"\n",
        "            src=\"index-rich_noneducated.html\"\n",
        "            frameborder=\"0\"\n",
        "            allowfullscreen\n",
        "        ></iframe>\n",
        "        "
       ],
       "metadata": {},
       "output_type": "pyout",
       "prompt_number": 84,
       "text": [
        "<IPython.lib.display.IFrame at 0x6224668>"
       ]
      }
     ],
     "prompt_number": 84
    },
    {
     "cell_type": "heading",
     "level": 3,
     "metadata": {},
     "source": [
      "Not Rich and Educated Map"
     ]
    },
    {
     "cell_type": "code",
     "collapsed": false,
     "input": [
      "from IPython.display import IFrame\n",
      "IFrame('index-nonrich_educated.html', width=700, height=400)"
     ],
     "language": "python",
     "metadata": {},
     "outputs": [
      {
       "html": [
        "\n",
        "        <iframe\n",
        "            width=\"700\"\n",
        "            height=400\"\n",
        "            src=\"index-nonrich_educated.html\"\n",
        "            frameborder=\"0\"\n",
        "            allowfullscreen\n",
        "        ></iframe>\n",
        "        "
       ],
       "metadata": {},
       "output_type": "pyout",
       "prompt_number": 85,
       "text": [
        "<IPython.lib.display.IFrame at 0x6224550>"
       ]
      }
     ],
     "prompt_number": 85
    },
    {
     "cell_type": "heading",
     "level": 3,
     "metadata": {},
     "source": [
      "Not Rich and Uneducated Map"
     ]
    },
    {
     "cell_type": "code",
     "collapsed": false,
     "input": [
      "from IPython.display import IFrame\n",
      "IFrame('index-nonrich_noneducated.html', width=700, height=400)"
     ],
     "language": "python",
     "metadata": {},
     "outputs": [
      {
       "html": [
        "\n",
        "        <iframe\n",
        "            width=\"700\"\n",
        "            height=400\"\n",
        "            src=\"index-nonrich_noneducated.html\"\n",
        "            frameborder=\"0\"\n",
        "            allowfullscreen\n",
        "        ></iframe>\n",
        "        "
       ],
       "metadata": {},
       "output_type": "pyout",
       "prompt_number": 86,
       "text": [
        "<IPython.lib.display.IFrame at 0x6224d68>"
       ]
      }
     ],
     "prompt_number": 86
    },
    {
     "cell_type": "code",
     "collapsed": false,
     "input": [],
     "language": "python",
     "metadata": {},
     "outputs": [],
     "prompt_number": 81
    },
    {
     "cell_type": "code",
     "collapsed": false,
     "input": [],
     "language": "python",
     "metadata": {},
     "outputs": []
    }
   ],
   "metadata": {}
  }
 ]
}