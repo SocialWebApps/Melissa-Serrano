{
 "metadata": {
  "name": "",
  "signature": "sha256:2fbeaa39303d875fcaf8a8180bcc3d8817e3e51724357301b5518ef2336284ec"
 },
 "nbformat": 3,
 "nbformat_minor": 0,
 "worksheets": [
  {
   "cells": [
    {
     "cell_type": "markdown",
     "metadata": {},
     "source": [
      "## Exam 1 ##\n",
      "### Melissa Serrano ###\n",
      "The intent here is to combine data from two different sources and allow others to draw conclusions.  Our goal here is to determine bit.ly shortenings of government sites that are tweeted in a given range of time. List them in a readable display format and also display them on a googlemap.\n",
      "\n",
      "I read in the usa.gov archive file, storing records of urls where the shortened url begins with bit.ly or 1.usa.gov.  I concatenate 2 of the fields to ensure we are storing the url displayed by the search tweets API.  I retrieve the maximum amount of tweets allowed by the twitter search tweets API (100) per url, meanwhile checking each of those tweets for coordinates and also counting the number of queries being performed to ensure I do not exceed the 180 query limit.  I store the coordinates and create a pygmap to plot the coordinates on.\n",
      "\n",
      "Although in all 202 unique URLs I obtained none had coordinates.  So I tweeted one of the bit.ly URLs that were on the usa.gov archive file while having my location set on.  This is the only marker plotted on my map."
     ]
    },
    {
     "cell_type": "code",
     "collapsed": false,
     "input": [
      "#Melissa Serrano - Homework 2 Social Web Mining\n",
      "import pandas as pd\n",
      "import numpy as np\n",
      "import json\n",
      "import pygmaps\n",
      "import webbrowser\n",
      "import twitter\n",
      "\n",
      "CONSUMER_KEY = 'qAhZWyyxyi8MQZwxaCKojiC8O'\n",
      "CONSUMER_SECRET = 'vCvQvS8icQpNucs5e42JZ0YqdmZkFg6QeGE3PH1sSUeZYyKzvC'\n",
      "OAUTH_TOKEN = '2892604311-sLujj8H3JB5oHbIVPGZhC2vkZYNbW3CJsh2LICs'\n",
      "OAUTH_TOKEN_SECRET = '9MFpHT1HKFmMyf3XD1UzH8APE0QwpkgbDEqt95GHmWQcw'\n",
      "\n",
      "\n",
      "#Obtain Twitter API OAuth\n",
      "auth = twitter.OAuth(OAUTH_TOKEN, OAUTH_TOKEN_SECRET, CONSUMER_KEY, CONSUMER_SECRET)\n",
      "twitter_api = twitter.Twitter(auth=auth)\n",
      "print twitter_api\n",
      "\n",
      "\n",
      "file = \"usagov_bitly_data2012-12-31-1356981052.txt\"\n",
      "print file\n",
      "open(file).readline()\n",
      "#read in contents of usa.gov file\n",
      "records = [json.loads(line) for line in open(file)]\n",
      "url = [('http://'+rec['hh']+'/'+rec['h']) for rec in records if 'hh' in rec \n",
      "        and (rec['hh']=='1.usa.gov' or rec['hh']=='bit.ly') \n",
      "        and (rec['r'].startswith(\"http://t.co\"))]\n",
      "    \n",
      "print 'Total gov URL count ' + str(len(url))\n",
      "\n",
      "#Make this a list of unique URLs\n",
      "urlSet = set(url)\n",
      "#print urlSet\n",
      "print 'Unique gov URL count ' + str(len(urlSet))\n",
      "    \n",
      "lat_lon={}\n",
      "count = 100 #max number of results for each search\n",
      "query_count = 0 #count up to 180 so we don't reach the limit\n",
      "coord_count = 0\n",
      "for u in urlSet:\n",
      "    query_count += 1\n",
      "    if query_count >= 180:\n",
      "        break\n",
      "    #search tweets for the gov URL found in the usa.gov file\n",
      "    tweets = twitter_api.search.tweets(q=u, count=count)\n",
      "    #print json.dumps(tweets, indent=1)\n",
      "    stop = len(tweets['statuses'])\n",
      "    print\n",
      "    print 'Number of tweets containing ' + u + '  = ' + str(stop)\n",
      "    for i in range(0, stop):\n",
      "        try:\n",
      "            #if the tweet has coordinates store them\n",
      "            if tweets['statuses'][i]['place'] != None:\n",
      "                coord_count += 1\n",
      "                lat_lon[coord_count] = tweets['statuses'][i]['place']['bounding_box']['coordinates'][0][0]\n",
      "                print 'Coordinates for ' + u + ' ' + str(lat_lon)\n",
      "                #pprint(lat_lon)\n",
      "                print\n",
      "                query_count += 1\n",
      "                if query_count >= 180:\n",
      "                    break\n",
      "        except KeyError, e:\n",
      "            print e\n",
      "\n",
      "#Create a google map with the origin in the center of the US\n",
      "#zoom is 4 so that we can see all states\n",
      "mymap = pygmaps.maps(39, -94, 4)\n",
      "\n",
      "stop = len(lat_lon)+1\n",
      "print 'lat_lon = ' + str(lat_lon)\n",
      "print 'Total number of coordinates to plot ' + str(stop)\n",
      "for i in range(1,stop):\n",
      "    coord = str(lat_lon[i]).split(\",\")\n",
      "   # print coord\n",
      "    coordCount = 1\n",
      "    for c in coord:\n",
      "        if coordCount == 1:\n",
      "            lon = str(c)[1:]\n",
      "            coordCount = 2\n",
      "        else:\n",
      "            lat = str(c)[:-1]\n",
      "    print 'point plotted on map: ' + lat, lon\n",
      "    #place a point for each coordinate on the google map\n",
      "    mymap.addpoint(float(lat), float(lon), \"#FF0000\")\n",
      "    \n",
      "#draw the google map with all our coordinates on it \n",
      "#and save it in this directory    \n",
      "mymap.draw('./mymap.html')\n",
      "#open this file in the browser automatically\n",
      "webbrowser.open_new('mymap.html')"
     ],
     "language": "python",
     "metadata": {},
     "outputs": [
      {
       "output_type": "stream",
       "stream": "stdout",
       "text": [
        "<twitter.api.Twitter object at 0x000000000D1DCCC0>\n",
        "usagov_bitly_data2012-12-31-1356981052.txt\n",
        "Total gov URL count 520"
       ]
      },
      {
       "output_type": "stream",
       "stream": "stdout",
       "text": [
        "\n",
        "Unique gov URL count 202\n",
        "\n"
       ]
      },
      {
       "output_type": "stream",
       "stream": "stdout",
       "text": [
        "Number of tweets containing http://1.usa.gov/NnS0BX  = 0\n",
        "\n"
       ]
      },
      {
       "output_type": "stream",
       "stream": "stdout",
       "text": [
        "Number of tweets containing http://1.usa.gov/YFP2vZ  = 0\n",
        "\n"
       ]
      },
      {
       "output_type": "stream",
       "stream": "stdout",
       "text": [
        "Number of tweets containing http://1.usa.gov/bqVYom  = 1\n",
        "Coordinates for http://1.usa.gov/bqVYom {1: [-80.280822, 26.295711]}\n",
        "\n",
        "\n"
       ]
      },
      {
       "output_type": "stream",
       "stream": "stdout",
       "text": [
        "Number of tweets containing http://1.usa.gov/TdXrYb  = 0\n",
        "\n"
       ]
      },
      {
       "output_type": "stream",
       "stream": "stdout",
       "text": [
        "Number of tweets containing http://1.usa.gov/VQmpu7  = 0\n",
        "\n"
       ]
      },
      {
       "output_type": "stream",
       "stream": "stdout",
       "text": [
        "Number of tweets containing http://1.usa.gov/Vugxre  = 0\n",
        "\n"
       ]
      },
      {
       "output_type": "stream",
       "stream": "stdout",
       "text": [
        "Number of tweets containing http://1.usa.gov/VI9CJY  = 0\n",
        "\n"
       ]
      },
      {
       "output_type": "stream",
       "stream": "stdout",
       "text": [
        "Number of tweets containing http://1.usa.gov/Tt9Gkh  = 0\n",
        "\n"
       ]
      },
      {
       "output_type": "stream",
       "stream": "stdout",
       "text": [
        "Number of tweets containing http://1.usa.gov/WVW306  = 0\n",
        "\n"
       ]
      },
      {
       "output_type": "stream",
       "stream": "stdout",
       "text": [
        "Number of tweets containing http://1.usa.gov/Ux1Yph  = 0\n",
        "\n"
       ]
      },
      {
       "output_type": "stream",
       "stream": "stdout",
       "text": [
        "Number of tweets containing http://1.usa.gov/VmA1Rx  = 0\n",
        "\n"
       ]
      },
      {
       "output_type": "stream",
       "stream": "stdout",
       "text": [
        "Number of tweets containing http://1.usa.gov/Yqcv4q  = 0\n",
        "\n"
       ]
      },
      {
       "output_type": "stream",
       "stream": "stdout",
       "text": [
        "Number of tweets containing http://bit.ly/XPZ0L3  = 0\n",
        "\n"
       ]
      },
      {
       "output_type": "stream",
       "stream": "stdout",
       "text": [
        "Number of tweets containing http://1.usa.gov/Rqodxd  = 0\n",
        "\n"
       ]
      },
      {
       "output_type": "stream",
       "stream": "stdout",
       "text": [
        "Number of tweets containing http://1.usa.gov/ZEnRrE  = 0\n",
        "\n"
       ]
      },
      {
       "output_type": "stream",
       "stream": "stdout",
       "text": [
        "Number of tweets containing http://1.usa.gov/VfhfJN  = 0\n",
        "\n"
       ]
      },
      {
       "output_type": "stream",
       "stream": "stdout",
       "text": [
        "Number of tweets containing http://bit.ly/S1HyX9  = 0\n",
        "\n"
       ]
      },
      {
       "output_type": "stream",
       "stream": "stdout",
       "text": [
        "Number of tweets containing http://1.usa.gov/YG08RH  = 0\n",
        "\n"
       ]
      },
      {
       "output_type": "stream",
       "stream": "stdout",
       "text": [
        "Number of tweets containing http://1.usa.gov/VmYZhb  = 0\n",
        "\n"
       ]
      },
      {
       "output_type": "stream",
       "stream": "stdout",
       "text": [
        "Number of tweets containing http://bit.ly/X7d1ce  = 0\n",
        "\n"
       ]
      },
      {
       "output_type": "stream",
       "stream": "stdout",
       "text": [
        "Number of tweets containing http://1.usa.gov/Vch1my  = 0\n",
        "\n"
       ]
      },
      {
       "output_type": "stream",
       "stream": "stdout",
       "text": [
        "Number of tweets containing http://bit.ly/ReM3xg  = 0\n",
        "\n"
       ]
      },
      {
       "output_type": "stream",
       "stream": "stdout",
       "text": [
        "Number of tweets containing http://1.usa.gov/VrOlsb  = 0\n",
        "\n"
       ]
      },
      {
       "output_type": "stream",
       "stream": "stdout",
       "text": [
        "Number of tweets containing http://1.usa.gov/Rq4Nc3  = 0\n",
        "\n"
       ]
      },
      {
       "output_type": "stream",
       "stream": "stdout",
       "text": [
        "Number of tweets containing http://1.usa.gov/UExXof  = 0\n",
        "\n"
       ]
      },
      {
       "output_type": "stream",
       "stream": "stdout",
       "text": [
        "Number of tweets containing http://1.usa.gov/wjIRxN  = 0\n",
        "\n"
       ]
      },
      {
       "output_type": "stream",
       "stream": "stdout",
       "text": [
        "Number of tweets containing http://1.usa.gov/RJIlvE  = 0\n",
        "\n"
       ]
      },
      {
       "output_type": "stream",
       "stream": "stdout",
       "text": [
        "Number of tweets containing http://1.usa.gov/TppZgO  = 0\n",
        "\n"
       ]
      },
      {
       "output_type": "stream",
       "stream": "stdout",
       "text": [
        "Number of tweets containing http://1.usa.gov/Ur2EMM  = 0\n",
        "\n"
       ]
      },
      {
       "output_type": "stream",
       "stream": "stdout",
       "text": [
        "Number of tweets containing http://1.usa.gov/U22GYP  = 0\n",
        "\n"
       ]
      },
      {
       "output_type": "stream",
       "stream": "stdout",
       "text": [
        "Number of tweets containing http://1.usa.gov/TZiDyI  = 0\n",
        "\n"
       ]
      },
      {
       "output_type": "stream",
       "stream": "stdout",
       "text": [
        "Number of tweets containing http://1.usa.gov/WPGraQ  = 0\n",
        "\n"
       ]
      },
      {
       "output_type": "stream",
       "stream": "stdout",
       "text": [
        "Number of tweets containing http://1.usa.gov/130qYbt  = 0\n",
        "\n"
       ]
      },
      {
       "output_type": "stream",
       "stream": "stdout",
       "text": [
        "Number of tweets containing http://1.usa.gov/UCtVgl  = 0\n",
        "\n"
       ]
      },
      {
       "output_type": "stream",
       "stream": "stdout",
       "text": [
        "Number of tweets containing http://bit.ly/ZPOKsC  = 0\n",
        "\n"
       ]
      },
      {
       "output_type": "stream",
       "stream": "stdout",
       "text": [
        "Number of tweets containing http://1.usa.gov/VTw97i  = 0\n",
        "\n"
       ]
      },
      {
       "output_type": "stream",
       "stream": "stdout",
       "text": [
        "Number of tweets containing http://bit.ly/TZ1oTH  = 0\n",
        "\n"
       ]
      },
      {
       "output_type": "stream",
       "stream": "stdout",
       "text": [
        "Number of tweets containing http://1.usa.gov/VmT3ol  = 0\n",
        "\n"
       ]
      },
      {
       "output_type": "stream",
       "stream": "stdout",
       "text": [
        "Number of tweets containing http://bit.ly/WbfITH  = 0\n",
        "\n"
       ]
      },
      {
       "output_type": "stream",
       "stream": "stdout",
       "text": [
        "Number of tweets containing http://1.usa.gov/1302YFb  = 0\n",
        "\n"
       ]
      },
      {
       "output_type": "stream",
       "stream": "stdout",
       "text": [
        "Number of tweets containing http://1.usa.gov/R0gh4x  = 0\n",
        "\n"
       ]
      },
      {
       "output_type": "stream",
       "stream": "stdout",
       "text": [
        "Number of tweets containing http://1.usa.gov/zGdWgn  = 0\n",
        "\n"
       ]
      },
      {
       "output_type": "stream",
       "stream": "stdout",
       "text": [
        "Number of tweets containing http://1.usa.gov/SDFQ9s  = 0\n",
        "\n"
       ]
      },
      {
       "output_type": "stream",
       "stream": "stdout",
       "text": [
        "Number of tweets containing http://1.usa.gov/Uhmmbd  = 0\n",
        "\n"
       ]
      },
      {
       "output_type": "stream",
       "stream": "stdout",
       "text": [
        "Number of tweets containing http://1.usa.gov/12WpLlm  = 0\n",
        "\n"
       ]
      },
      {
       "output_type": "stream",
       "stream": "stdout",
       "text": [
        "Number of tweets containing http://bit.ly/TJTckV  = 0\n",
        "\n"
       ]
      },
      {
       "output_type": "stream",
       "stream": "stdout",
       "text": [
        "Number of tweets containing http://1.usa.gov/UtGCd9  = 0\n",
        "\n"
       ]
      },
      {
       "output_type": "stream",
       "stream": "stdout",
       "text": [
        "Number of tweets containing http://1.usa.gov/YjIvHb  = 0\n",
        "\n"
       ]
      },
      {
       "output_type": "stream",
       "stream": "stdout",
       "text": [
        "Number of tweets containing http://1.usa.gov/R2evlV  = 0\n",
        "\n"
       ]
      },
      {
       "output_type": "stream",
       "stream": "stdout",
       "text": [
        "Number of tweets containing http://1.usa.gov/WbfITH  = 0\n",
        "\n"
       ]
      },
      {
       "output_type": "stream",
       "stream": "stdout",
       "text": [
        "Number of tweets containing http://bit.ly/voLBUb  = 0\n",
        "\n"
       ]
      },
      {
       "output_type": "stream",
       "stream": "stdout",
       "text": [
        "Number of tweets containing http://1.usa.gov/Z4Ifkx  = 0\n",
        "\n"
       ]
      },
      {
       "output_type": "stream",
       "stream": "stdout",
       "text": [
        "Number of tweets containing http://1.usa.gov/10FpkgH  = 0\n",
        "\n"
       ]
      },
      {
       "output_type": "stream",
       "stream": "stdout",
       "text": [
        "Number of tweets containing http://bit.ly/OM6A9Q  = 0\n",
        "\n"
       ]
      },
      {
       "output_type": "stream",
       "stream": "stdout",
       "text": [
        "Number of tweets containing http://1.usa.gov/PAPszW  = 0\n",
        "\n"
       ]
      },
      {
       "output_type": "stream",
       "stream": "stdout",
       "text": [
        "Number of tweets containing http://1.usa.gov/TKfVCy  = 0\n",
        "\n"
       ]
      },
      {
       "output_type": "stream",
       "stream": "stdout",
       "text": [
        "Number of tweets containing http://bit.ly/ovpQI3  = 0\n",
        "\n"
       ]
      },
      {
       "output_type": "stream",
       "stream": "stdout",
       "text": [
        "Number of tweets containing http://1.usa.gov/Uze555  = 0\n",
        "\n"
       ]
      },
      {
       "output_type": "stream",
       "stream": "stdout",
       "text": [
        "Number of tweets containing http://1.usa.gov/RqrJb0  = 0\n",
        "\n"
       ]
      },
      {
       "output_type": "stream",
       "stream": "stdout",
       "text": [
        "Number of tweets containing http://1.usa.gov/VUR6hT  = 0\n",
        "\n"
       ]
      },
      {
       "output_type": "stream",
       "stream": "stdout",
       "text": [
        "Number of tweets containing http://bit.ly/wdQo91  = 0\n",
        "\n"
       ]
      },
      {
       "output_type": "stream",
       "stream": "stdout",
       "text": [
        "Number of tweets containing http://1.usa.gov/U6kDa5  = 0\n",
        "\n"
       ]
      },
      {
       "output_type": "stream",
       "stream": "stdout",
       "text": [
        "Number of tweets containing http://1.usa.gov/T7jSgS  = 0\n",
        "\n"
       ]
      },
      {
       "output_type": "stream",
       "stream": "stdout",
       "text": [
        "Number of tweets containing http://bit.ly/Wxxzqd  = 0\n",
        "\n"
       ]
      },
      {
       "output_type": "stream",
       "stream": "stdout",
       "text": [
        "Number of tweets containing http://1.usa.gov/W9ujRw  = 0\n",
        "\n"
       ]
      },
      {
       "output_type": "stream",
       "stream": "stdout",
       "text": [
        "Number of tweets containing http://1.usa.gov/Z4MCMs  = 0\n",
        "\n"
       ]
      },
      {
       "output_type": "stream",
       "stream": "stdout",
       "text": [
        "Number of tweets containing http://1.usa.gov/WuXONS  = 0\n",
        "\n"
       ]
      },
      {
       "output_type": "stream",
       "stream": "stdout",
       "text": [
        "Number of tweets containing http://1.usa.gov/WbldS8  = 0\n",
        "\n"
       ]
      },
      {
       "output_type": "stream",
       "stream": "stdout",
       "text": [
        "Number of tweets containing http://1.usa.gov/10FosIX  = 0\n",
        "\n"
       ]
      },
      {
       "output_type": "stream",
       "stream": "stdout",
       "text": [
        "Number of tweets containing http://1.usa.gov/YqcI7C  = 0\n",
        "\n"
       ]
      },
      {
       "output_type": "stream",
       "stream": "stdout",
       "text": [
        "Number of tweets containing http://1.usa.gov/Z4MGvI  = 0\n",
        "\n"
       ]
      },
      {
       "output_type": "stream",
       "stream": "stdout",
       "text": [
        "Number of tweets containing http://bit.ly/VmT3ol  = 0\n",
        "\n"
       ]
      },
      {
       "output_type": "stream",
       "stream": "stdout",
       "text": [
        "Number of tweets containing http://1.usa.gov/Z4s4na  = 0\n",
        "\n"
       ]
      },
      {
       "output_type": "stream",
       "stream": "stdout",
       "text": [
        "Number of tweets containing http://bit.ly/10FJbfE  = 0\n",
        "\n"
       ]
      },
      {
       "output_type": "stream",
       "stream": "stdout",
       "text": [
        "Number of tweets containing http://1.usa.gov/130s4nv  = 0\n",
        "\n"
       ]
      },
      {
       "output_type": "stream",
       "stream": "stdout",
       "text": [
        "Number of tweets containing http://1.usa.gov/VQrpyq  = 0\n",
        "\n"
       ]
      },
      {
       "output_type": "stream",
       "stream": "stdout",
       "text": [
        "Number of tweets containing http://1.usa.gov/TEeKV7  = 0\n",
        "\n"
       ]
      },
      {
       "output_type": "stream",
       "stream": "stdout",
       "text": [
        "Number of tweets containing http://1.usa.gov/VkWig9  = 0\n",
        "\n"
       ]
      },
      {
       "output_type": "stream",
       "stream": "stdout",
       "text": [
        "Number of tweets containing http://bit.ly/TsWfRn  = 0\n",
        "\n"
       ]
      },
      {
       "output_type": "stream",
       "stream": "stdout",
       "text": [
        "Number of tweets containing http://bit.ly/Wa2Spl  = 0\n",
        "\n"
       ]
      },
      {
       "output_type": "stream",
       "stream": "stdout",
       "text": [
        "Number of tweets containing http://1.usa.gov/KTt0ox  = 0\n",
        "\n"
       ]
      },
      {
       "output_type": "stream",
       "stream": "stdout",
       "text": [
        "Number of tweets containing http://bit.ly/VTvXnK  = 0\n",
        "\n"
       ]
      },
      {
       "output_type": "stream",
       "stream": "stdout",
       "text": [
        "Number of tweets containing http://1.usa.gov/tK3mC2  = 0\n",
        "\n"
       ]
      },
      {
       "output_type": "stream",
       "stream": "stdout",
       "text": [
        "Number of tweets containing http://1.usa.gov/13052Nm  = 0\n",
        "\n"
       ]
      },
      {
       "output_type": "stream",
       "stream": "stdout",
       "text": [
        "Number of tweets containing http://1.usa.gov/12UhI8C  = 0\n",
        "\n"
       ]
      },
      {
       "output_type": "stream",
       "stream": "stdout",
       "text": [
        "Number of tweets containing http://bit.ly/c2XZ3m  = 0\n",
        "\n"
       ]
      },
      {
       "output_type": "stream",
       "stream": "stdout",
       "text": [
        "Number of tweets containing http://1.usa.gov/TZVuBH  = 0\n",
        "\n"
       ]
      },
      {
       "output_type": "stream",
       "stream": "stdout",
       "text": [
        "Number of tweets containing http://bit.ly/YH6YGJ  = 0\n",
        "\n"
       ]
      },
      {
       "output_type": "stream",
       "stream": "stdout",
       "text": [
        "Number of tweets containing http://bit.ly/VmYZhb  = 0\n",
        "\n"
       ]
      },
      {
       "output_type": "stream",
       "stream": "stdout",
       "text": [
        "Number of tweets containing http://bit.ly/KeNAvr  = 0\n",
        "\n"
       ]
      },
      {
       "output_type": "stream",
       "stream": "stdout",
       "text": [
        "Number of tweets containing http://bit.ly/VyRHWM  = 0\n",
        "\n"
       ]
      },
      {
       "output_type": "stream",
       "stream": "stdout",
       "text": [
        "Number of tweets containing http://bit.ly/Uhswbc  = 0\n",
        "\n"
       ]
      },
      {
       "output_type": "stream",
       "stream": "stdout",
       "text": [
        "Number of tweets containing http://1.usa.gov/Rq7Tg8  = 0\n",
        "\n"
       ]
      },
      {
       "output_type": "stream",
       "stream": "stdout",
       "text": [
        "Number of tweets containing http://1.usa.gov/Uhs1hv  = 0\n",
        "\n"
       ]
      },
      {
       "output_type": "stream",
       "stream": "stdout",
       "text": [
        "Number of tweets containing http://1.usa.gov/YGRjqM  = 0\n",
        "\n"
       ]
      },
      {
       "output_type": "stream",
       "stream": "stdout",
       "text": [
        "Number of tweets containing http://1.usa.gov/RymIfI  = 0\n",
        "\n"
       ]
      },
      {
       "output_type": "stream",
       "stream": "stdout",
       "text": [
        "Number of tweets containing http://bit.ly/VQrpyq  = 0\n",
        "\n"
       ]
      },
      {
       "output_type": "stream",
       "stream": "stdout",
       "text": [
        "Number of tweets containing http://bit.ly/UHiGhx  = 0\n",
        "\n"
       ]
      },
      {
       "output_type": "stream",
       "stream": "stdout",
       "text": [
        "Number of tweets containing http://bit.ly/60XX6t  = 0\n",
        "\n"
       ]
      },
      {
       "output_type": "stream",
       "stream": "stdout",
       "text": [
        "Number of tweets containing http://1.usa.gov/TKhDyN  = 0\n",
        "\n"
       ]
      },
      {
       "output_type": "stream",
       "stream": "stdout",
       "text": [
        "Number of tweets containing http://1.usa.gov/Wefjjr  = 0\n",
        "\n"
       ]
      },
      {
       "output_type": "stream",
       "stream": "stdout",
       "text": [
        "Number of tweets containing http://1.usa.gov/VncQUI  = 0\n",
        "\n"
       ]
      },
      {
       "output_type": "stream",
       "stream": "stdout",
       "text": [
        "Number of tweets containing http://bit.ly/TyinsU  = 0\n",
        "\n"
       ]
      },
      {
       "output_type": "stream",
       "stream": "stdout",
       "text": [
        "Number of tweets containing http://bit.ly/Rq4Nc3  = 0\n",
        "\n"
       ]
      },
      {
       "output_type": "stream",
       "stream": "stdout",
       "text": [
        "Number of tweets containing http://1.usa.gov/ash2JA  = 0\n",
        "\n"
       ]
      },
      {
       "output_type": "stream",
       "stream": "stdout",
       "text": [
        "Number of tweets containing http://1.usa.gov/VUdnfp  = 0\n",
        "\n"
       ]
      },
      {
       "output_type": "stream",
       "stream": "stdout",
       "text": [
        "Number of tweets containing http://1.usa.gov/UfA8wo  = 0\n",
        "\n"
       ]
      },
      {
       "output_type": "stream",
       "stream": "stdout",
       "text": [
        "Number of tweets containing http://1.usa.gov/VmAnFr  = 0\n",
        "\n"
       ]
      },
      {
       "output_type": "stream",
       "stream": "stdout",
       "text": [
        "Number of tweets containing http://1.usa.gov/WE5xrq  = 0\n",
        "\n"
       ]
      },
      {
       "output_type": "stream",
       "stream": "stdout",
       "text": [
        "Number of tweets containing http://1.usa.gov/YFfXN8  = 0\n",
        "\n"
       ]
      },
      {
       "output_type": "stream",
       "stream": "stdout",
       "text": [
        "Number of tweets containing http://bit.ly/mQgIdI  = 0\n",
        "\n"
       ]
      },
      {
       "output_type": "stream",
       "stream": "stdout",
       "text": [
        "Number of tweets containing http://1.usa.gov/Vu0idL  = 0\n",
        "\n"
       ]
      },
      {
       "output_type": "stream",
       "stream": "stdout",
       "text": [
        "Number of tweets containing http://1.usa.gov/VNQV7P  = 0\n",
        "\n"
       ]
      },
      {
       "output_type": "stream",
       "stream": "stdout",
       "text": [
        "Number of tweets containing http://1.usa.gov/nRNWnO  = 0\n",
        "\n"
       ]
      },
      {
       "output_type": "stream",
       "stream": "stdout",
       "text": [
        "Number of tweets containing http://1.usa.gov/U06ejx  = 0\n",
        "\n"
       ]
      },
      {
       "output_type": "stream",
       "stream": "stdout",
       "text": [
        "Number of tweets containing http://1.usa.gov/t5qHwx  = 0\n",
        "\n"
       ]
      },
      {
       "output_type": "stream",
       "stream": "stdout",
       "text": [
        "Number of tweets containing http://1.usa.gov/X1It84  = 0\n",
        "\n"
       ]
      },
      {
       "output_type": "stream",
       "stream": "stdout",
       "text": [
        "Number of tweets containing http://1.usa.gov/HavKeo  = 0\n",
        "\n"
       ]
      },
      {
       "output_type": "stream",
       "stream": "stdout",
       "text": [
        "Number of tweets containing http://1.usa.gov/WVt0pR  = 0\n",
        "\n"
       ]
      },
      {
       "output_type": "stream",
       "stream": "stdout",
       "text": [
        "Number of tweets containing http://1.usa.gov/SNmRyk  = 0\n",
        "\n"
       ]
      },
      {
       "output_type": "stream",
       "stream": "stdout",
       "text": [
        "Number of tweets containing http://1.usa.gov/UaeMBw  = 0\n",
        "\n"
       ]
      },
      {
       "output_type": "stream",
       "stream": "stdout",
       "text": [
        "Number of tweets containing http://1.usa.gov/SVBPA3  = 0\n",
        "\n"
       ]
      },
      {
       "output_type": "stream",
       "stream": "stdout",
       "text": [
        "Number of tweets containing http://bit.ly/VuGB5F  = 0\n",
        "\n"
       ]
      },
      {
       "output_type": "stream",
       "stream": "stdout",
       "text": [
        "Number of tweets containing http://1.usa.gov/TqkNpr  = 0\n",
        "\n"
       ]
      },
      {
       "output_type": "stream",
       "stream": "stdout",
       "text": [
        "Number of tweets containing http://1.usa.gov/Vy8o4v  = 0\n",
        "\n"
       ]
      },
      {
       "output_type": "stream",
       "stream": "stdout",
       "text": [
        "Number of tweets containing http://1.usa.gov/TEMK3N  = 0\n",
        "\n"
       ]
      },
      {
       "output_type": "stream",
       "stream": "stdout",
       "text": [
        "Number of tweets containing http://bit.ly/UzqXbk  = 0\n",
        "\n"
       ]
      },
      {
       "output_type": "stream",
       "stream": "stdout",
       "text": [
        "Number of tweets containing http://1.usa.gov/t6XoQd  = 0\n",
        "\n"
       ]
      },
      {
       "output_type": "stream",
       "stream": "stdout",
       "text": [
        "Number of tweets containing http://1.usa.gov/YH6YGJ  = 0\n",
        "\n"
       ]
      },
      {
       "output_type": "stream",
       "stream": "stdout",
       "text": [
        "Number of tweets containing http://1.usa.gov/WgbVVv  = 0\n",
        "\n"
       ]
      },
      {
       "output_type": "stream",
       "stream": "stdout",
       "text": [
        "Number of tweets containing http://1.usa.gov/Z4MGvJ  = 0\n",
        "\n"
       ]
      },
      {
       "output_type": "stream",
       "stream": "stdout",
       "text": [
        "Number of tweets containing http://1.usa.gov/V9Tvqv  = 0\n",
        "\n"
       ]
      },
      {
       "output_type": "stream",
       "stream": "stdout",
       "text": [
        "Number of tweets containing http://1.usa.gov/nsBSBt  = 0\n",
        "\n"
       ]
      },
      {
       "output_type": "stream",
       "stream": "stdout",
       "text": [
        "Number of tweets containing http://1.usa.gov/VmHAVT  = 0\n",
        "\n"
       ]
      },
      {
       "output_type": "stream",
       "stream": "stdout",
       "text": [
        "Number of tweets containing http://1.usa.gov/UbZfih  = 0\n",
        "\n"
       ]
      },
      {
       "output_type": "stream",
       "stream": "stdout",
       "text": [
        "Number of tweets containing http://1.usa.gov/wdQo91  = 0\n",
        "\n"
       ]
      },
      {
       "output_type": "stream",
       "stream": "stdout",
       "text": [
        "Number of tweets containing http://1.usa.gov/ylLAOd  = 0\n",
        "\n"
       ]
      },
      {
       "output_type": "stream",
       "stream": "stdout",
       "text": [
        "Number of tweets containing http://1.usa.gov/YqiJpC  = 0\n",
        "\n"
       ]
      },
      {
       "output_type": "stream",
       "stream": "stdout",
       "text": [
        "Number of tweets containing http://1.usa.gov/VuGB5F  = 0\n",
        "\n"
       ]
      },
      {
       "output_type": "stream",
       "stream": "stdout",
       "text": [
        "Number of tweets containing http://bit.ly/TZu7I7  = 0\n",
        "\n"
       ]
      },
      {
       "output_type": "stream",
       "stream": "stdout",
       "text": [
        "Number of tweets containing http://bit.ly/13052Nm  = 0\n",
        "\n"
       ]
      },
      {
       "output_type": "stream",
       "stream": "stdout",
       "text": [
        "Number of tweets containing http://bit.ly/WgbVVv  = 0\n",
        "\n"
       ]
      },
      {
       "output_type": "stream",
       "stream": "stdout",
       "text": [
        "Number of tweets containing http://1.usa.gov/YD0CrT  = 0\n",
        "\n"
       ]
      },
      {
       "output_type": "stream",
       "stream": "stdout",
       "text": [
        "Number of tweets containing http://1.usa.gov/VU0bHc  = 0\n",
        "\n"
       ]
      },
      {
       "output_type": "stream",
       "stream": "stdout",
       "text": [
        "Number of tweets containing http://1.usa.gov/UNbmaT  = 0\n",
        "\n"
       ]
      },
      {
       "output_type": "stream",
       "stream": "stdout",
       "text": [
        "Number of tweets containing http://1.usa.gov/QozPMJ  = 0\n",
        "\n"
       ]
      },
      {
       "output_type": "stream",
       "stream": "stdout",
       "text": [
        "Number of tweets containing http://1.usa.gov/130fV1P  = 0\n",
        "\n"
       ]
      },
      {
       "output_type": "stream",
       "stream": "stdout",
       "text": [
        "Number of tweets containing http://bit.ly/130fV1P  = 0\n",
        "\n"
       ]
      },
      {
       "output_type": "stream",
       "stream": "stdout",
       "text": [
        "Number of tweets containing http://1.usa.gov/Z54MxI  = 0\n",
        "\n"
       ]
      },
      {
       "output_type": "stream",
       "stream": "stdout",
       "text": [
        "Number of tweets containing http://1.usa.gov/VyRHWM  = 0\n",
        "\n"
       ]
      },
      {
       "output_type": "stream",
       "stream": "stdout",
       "text": [
        "Number of tweets containing http://bit.ly/9RGeNs  = 0\n",
        "\n"
       ]
      },
      {
       "output_type": "stream",
       "stream": "stdout",
       "text": [
        "Number of tweets containing http://1.usa.gov/Hs6QTp  = 0\n",
        "\n"
       ]
      },
      {
       "output_type": "stream",
       "stream": "stdout",
       "text": [
        "Number of tweets containing http://bit.ly/gcjBLL  = 0\n",
        "\n"
       ]
      },
      {
       "output_type": "stream",
       "stream": "stdout",
       "text": [
        "Number of tweets containing http://1.usa.gov/VtTYD9  = 0\n",
        "\n"
       ]
      },
      {
       "output_type": "stream",
       "stream": "stdout",
       "text": [
        "Number of tweets containing http://1.usa.gov/U3cAL7  = 0\n",
        "\n"
       ]
      },
      {
       "output_type": "stream",
       "stream": "stdout",
       "text": [
        "Number of tweets containing http://1.usa.gov/130Crrt  = 0\n",
        "\n"
       ]
      },
      {
       "output_type": "stream",
       "stream": "stdout",
       "text": [
        "Number of tweets containing http://1.usa.gov/12GTdeY  = 0\n",
        "\n"
       ]
      },
      {
       "output_type": "stream",
       "stream": "stdout",
       "text": [
        "Number of tweets containing http://1.usa.gov/T7fCRP  = 0\n",
        "\n"
       ]
      },
      {
       "output_type": "stream",
       "stream": "stdout",
       "text": [
        "Number of tweets containing http://1.usa.gov/VeUci7  = 0\n",
        "\n"
       ]
      },
      {
       "output_type": "stream",
       "stream": "stdout",
       "text": [
        "Number of tweets containing http://bit.ly/oRDU89  = 0\n",
        "\n"
       ]
      },
      {
       "output_type": "stream",
       "stream": "stdout",
       "text": [
        "Number of tweets containing http://bit.ly/SejjBf  = 0\n",
        "\n"
       ]
      },
      {
       "output_type": "stream",
       "stream": "stdout",
       "text": [
        "Number of tweets containing http://1.usa.gov/UwSZp0  = 0\n",
        "\n"
       ]
      },
      {
       "output_type": "stream",
       "stream": "stdout",
       "text": [
        "Number of tweets containing http://1.usa.gov/TWtmzk  = 0\n",
        "\n"
       ]
      },
      {
       "output_type": "stream",
       "stream": "stdout",
       "text": [
        "Number of tweets containing http://1.usa.gov/TWtmzl  = 0\n",
        "\n"
       ]
      },
      {
       "output_type": "stream",
       "stream": "stdout",
       "text": [
        "Number of tweets containing http://1.usa.gov/WW5RUb  = 0\n",
        "\n"
       ]
      },
      {
       "output_type": "stream",
       "stream": "stdout",
       "text": [
        "Number of tweets containing http://1.usa.gov/TKpSwB  = 0\n",
        "\n"
       ]
      },
      {
       "output_type": "stream",
       "stream": "stdout",
       "text": [
        "Number of tweets containing http://bit.ly/V5H5C0  = 0\n",
        "\n"
       ]
      },
      {
       "output_type": "stream",
       "stream": "stdout",
       "text": [
        "Number of tweets containing http://1.usa.gov/YGkSZB  = 0\n",
        "\n"
       ]
      },
      {
       "output_type": "stream",
       "stream": "stdout",
       "text": [
        "Number of tweets containing http://1.usa.gov/Z57fbr  = 0\n",
        "\n"
       ]
      },
      {
       "output_type": "stream",
       "stream": "stdout",
       "text": [
        "Number of tweets containing http://1.usa.gov/TlB1XM  = 0\n",
        "\n"
       ]
      },
      {
       "output_type": "stream",
       "stream": "stdout",
       "text": [
        "Number of tweets containing http://1.usa.gov/10FpmF9  = 0\n",
        "\n"
       ]
      },
      {
       "output_type": "stream",
       "stream": "stdout",
       "text": [
        "Number of tweets containing http://1.usa.gov/YGBtfM  = 0\n",
        "\n"
       ]
      },
      {
       "output_type": "stream",
       "stream": "stdout",
       "text": [
        "Number of tweets containing http://1.usa.gov/xSxUEy  = 0\n",
        "\n"
       ]
      },
      {
       "output_type": "stream",
       "stream": "stdout",
       "text": [
        "Number of tweets containing http://1.usa.gov/tJcnHn  = 1\n",
        "\n"
       ]
      },
      {
       "output_type": "stream",
       "stream": "stdout",
       "text": [
        "Number of tweets containing http://1.usa.gov/12TbiaF  = 0\n",
        "\n"
       ]
      },
      {
       "output_type": "stream",
       "stream": "stdout",
       "text": [
        "Number of tweets containing http://1.usa.gov/130fpkg  = 0\n",
        "\n"
       ]
      },
      {
       "output_type": "stream",
       "stream": "stdout",
       "text": [
        "Number of tweets containing http://1.usa.gov/YHaJMr  = 0\n",
        "\n"
       ]
      },
      {
       "output_type": "stream",
       "stream": "stdout",
       "text": [
        "Number of tweets containing http://1.usa.gov/VWozfk  = 0\n",
        "lat_lon = {1: [-80.280822, 26.295711]}\n",
        "Total number of coordinates to plot 2\n",
        "point plotted on map:  26.295711 -80.280822\n"
       ]
      },
      {
       "metadata": {},
       "output_type": "pyout",
       "prompt_number": 128,
       "text": [
        "True"
       ]
      }
     ],
     "prompt_number": 128
    },
    {
     "cell_type": "code",
     "collapsed": false,
     "input": [],
     "language": "python",
     "metadata": {},
     "outputs": [],
     "prompt_number": 126
    },
    {
     "cell_type": "code",
     "collapsed": false,
     "input": [],
     "language": "python",
     "metadata": {},
     "outputs": []
    }
   ],
   "metadata": {}
  }
 ]
}