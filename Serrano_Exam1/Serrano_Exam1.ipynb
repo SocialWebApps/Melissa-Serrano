{
 "metadata": {
  "name": "",
  "signature": "sha256:ad81bcba3a6ac795a6d55726badfbc56aaba27100ce84dff0d6737ba69f273e2"
 },
 "nbformat": 3,
 "nbformat_minor": 0,
 "worksheets": [
  {
   "cells": [
    {
     "cell_type": "markdown",
     "metadata": {},
     "source": [
      "## Exam 1 ##\n",
      "### Melissa Serrano ###\n",
      "The intent here is to combine data from two different sources and allow others to draw conclusions.  Our goal here is to determine bit.ly shortenings of government sites that are tweeted in a given range of time. List them in a readable display format and also display them on a googlemap.\n",
      "\n",
      "I read in the usa.gov archive file, storing records of urls where the shortened url begins with bit.ly or 1.usa.gov.  I concatenate 2 of the fields to ensure we are storing the url displayed by the search tweets API.  I retrieve the maximum amount of tweets allowed by the twitter search tweets API (100) per url, meanwhile checking each of those tweets for coordinates and also counting the number of queries being performed to ensure I do not exceed the 180 query limit.  I store the coordinates and create a pygmap to plot the coordinates on.\n",
      "\n",
      "Although in all 202 unique URLs I obtained none had coordinates.  So I tweeted one of the bit.ly URLs that were on the usa.gov archive file while having my location set on.  This is the only marker plotted on my map."
     ]
    },
    {
     "cell_type": "code",
     "collapsed": false,
     "input": [
      "#Melissa Serrano - Homework 2 Social Web Mining\n",
      "import pandas as pd\n",
      "import numpy as np\n",
      "import json\n",
      "import pygmaps\n",
      "import webbrowser\n",
      "import twitter\n",
      "\n",
      "CONSUMER_KEY = 'qAhZWyyxyi8MQZwxaCKojiC8O'\n",
      "CONSUMER_SECRET = 'vCvQvS8icQpNucs5e42JZ0YqdmZkFg6QeGE3PH1sSUeZYyKzvC'\n",
      "OAUTH_TOKEN = '2892604311-sLujj8H3JB5oHbIVPGZhC2vkZYNbW3CJsh2LICs'\n",
      "OAUTH_TOKEN_SECRET = '9MFpHT1HKFmMyf3XD1UzH8APE0QwpkgbDEqt95GHmWQcw'\n",
      "\n",
      "\n",
      "#Obtain Twitter API OAuth\n",
      "auth = twitter.OAuth(OAUTH_TOKEN, OAUTH_TOKEN_SECRET, CONSUMER_KEY, CONSUMER_SECRET)\n",
      "twitter_api = twitter.Twitter(auth=auth)\n",
      "print twitter_api\n",
      "\n",
      "\n",
      "file = \"usagov_bitly_data2012-12-31-1356981052.txt\"\n",
      "print file\n",
      "open(file).readline()\n",
      "#read in contents of usa.gov file\n",
      "records = [json.loads(line) for line in open(file)]\n",
      "url = [('http://'+rec['hh']+'/'+rec['h']) for rec in records if 'hh' in rec \n",
      "        and (rec['hh']=='1.usa.gov' or rec['hh']=='bit.ly') \n",
      "        and (rec['r'].startswith(\"http://t.co\"))]\n",
      "    \n",
      "print 'Total gov URL count ' + str(len(url))\n",
      "\n",
      "#Make this a list of unique URLs\n",
      "urlSet = set(url)\n",
      "#print urlSet\n",
      "print 'Unique gov URL count ' + str(len(urlSet))\n",
      "    \n",
      "lat_lon={}\n",
      "count = 100 #max number of results for each search\n",
      "query_count = 0 #count up to 180 so we don't reach the limit\n",
      "for u in urlSet:\n",
      "    query_count += 1\n",
      "    if query_count >= 180:\n",
      "        break\n",
      "    #search tweets for the gov URL found in the usa.gov file\n",
      "    tweets = twitter_api.search.tweets(q=u, count=count)\n",
      "    #print json.dumps(tweets, indent=1)\n",
      "    stop = len(tweets['statuses'])\n",
      "    print\n",
      "    print 'Number of tweets containing ' + u + '  = ' + str(stop)\n",
      "    for i in range(0, stop):\n",
      "        try:\n",
      "            #if the tweet has coordinates store them\n",
      "            if tweets['statuses'][i]['place'] != None:\n",
      "                lat_lon = tweets['statuses'][i]['place']['bounding_box']['coordinates'][0][0]\n",
      "                print 'Coordinates for ' + u + ' ' + str(lat_lon)\n",
      "                #pprint(lat_lon)\n",
      "                print\n",
      "                query_count += 1\n",
      "                if query_count >= 180:\n",
      "                    break\n",
      "        except KeyError, e:\n",
      "            print e\n",
      "\n",
      "#Create a google map with the origin in the center of the US\n",
      "#zoom is 4 so that we can see all states\n",
      "mymap = pygmaps.maps(39, -94, 4)\n",
      "\n",
      "stop = len(lat_lon)-1 #starting index at 0\n",
      "print 'lat_lon = ' + str(lat_lon)\n",
      "print 'Total number of coordinates to plot ' + str(stop)\n",
      "for i in range(0,stop):\n",
      "    coord = str(lat_lon[i]).split(\",\")\n",
      "    print coord\n",
      "    coordCount = 1\n",
      "    for c in coord:\n",
      "        if coordCount == 1:\n",
      "            lon = str(c)#[1:]\n",
      "            coordCount = 2\n",
      "        else:\n",
      "            lat = str(c)#[:-1]\n",
      "    print 'point plotted on map: ' + lat, lon\n",
      "    #place a point for each coordinate on the google map\n",
      "    mymap.addpoint(float(lat), float(lon), \"#FF0000\")\n",
      "    \n",
      "#draw the google map with all our coordinates on it \n",
      "#and save it in this directory    \n",
      "mymap.draw('./mymap.html')\n",
      "#open this file in the browser automatically\n",
      "webbrowser.open_new('mymap.html')"
     ],
     "language": "python",
     "metadata": {},
     "outputs": [
      {
       "output_type": "stream",
       "stream": "stdout",
       "text": [
        "<twitter.api.Twitter object at 0x000000000CFFC550>\n",
        "usagov_bitly_data2012-12-31-1356981052.txt\n",
        "Total gov URL count 520"
       ]
      },
      {
       "output_type": "stream",
       "stream": "stdout",
       "text": [
        "\n",
        "Unique gov URL count 202\n",
        "\n"
       ]
      },
      {
       "output_type": "stream",
       "stream": "stdout",
       "text": [
        "Number of tweets containing http://1.usa.gov/NnS0BX  = 0\n",
        "\n"
       ]
      },
      {
       "output_type": "stream",
       "stream": "stdout",
       "text": [
        "Number of tweets containing http://1.usa.gov/YFP2vZ  = 0\n",
        "\n"
       ]
      },
      {
       "output_type": "stream",
       "stream": "stdout",
       "text": [
        "Number of tweets containing http://1.usa.gov/bqVYom  = 0\n",
        "\n"
       ]
      },
      {
       "output_type": "stream",
       "stream": "stdout",
       "text": [
        "Number of tweets containing http://1.usa.gov/TdXrYb  = 0\n",
        "\n"
       ]
      },
      {
       "output_type": "stream",
       "stream": "stdout",
       "text": [
        "Number of tweets containing http://1.usa.gov/VQmpu7  = 0\n",
        "\n"
       ]
      },
      {
       "output_type": "stream",
       "stream": "stdout",
       "text": [
        "Number of tweets containing http://1.usa.gov/Vugxre  = 0\n",
        "\n"
       ]
      },
      {
       "output_type": "stream",
       "stream": "stdout",
       "text": [
        "Number of tweets containing http://1.usa.gov/VI9CJY  = 0\n",
        "\n"
       ]
      },
      {
       "output_type": "stream",
       "stream": "stdout",
       "text": [
        "Number of tweets containing http://1.usa.gov/Tt9Gkh  = 1\n",
        "Coordinates for http://1.usa.gov/Tt9Gkh [-80.907965, 27.180825]\n",
        "\n",
        "\n"
       ]
      },
      {
       "output_type": "stream",
       "stream": "stdout",
       "text": [
        "Number of tweets containing http://1.usa.gov/WVW306  = 0\n",
        "\n"
       ]
      },
      {
       "output_type": "stream",
       "stream": "stdout",
       "text": [
        "Number of tweets containing http://1.usa.gov/Ux1Yph  = 0\n",
        "\n"
       ]
      },
      {
       "output_type": "stream",
       "stream": "stdout",
       "text": [
        "Number of tweets containing http://1.usa.gov/VmA1Rx  = 0\n",
        "\n"
       ]
      },
      {
       "output_type": "stream",
       "stream": "stdout",
       "text": [
        "Number of tweets containing http://1.usa.gov/Yqcv4q  = 0\n",
        "\n"
       ]
      },
      {
       "output_type": "stream",
       "stream": "stdout",
       "text": [
        "Number of tweets containing http://bit.ly/XPZ0L3  = 0\n",
        "\n"
       ]
      },
      {
       "output_type": "stream",
       "stream": "stdout",
       "text": [
        "Number of tweets containing http://1.usa.gov/Rqodxd  = 0\n",
        "\n"
       ]
      },
      {
       "output_type": "stream",
       "stream": "stdout",
       "text": [
        "Number of tweets containing http://1.usa.gov/ZEnRrE  = 0\n",
        "\n"
       ]
      },
      {
       "output_type": "stream",
       "stream": "stdout",
       "text": [
        "Number of tweets containing http://1.usa.gov/VfhfJN  = 0\n",
        "\n"
       ]
      },
      {
       "output_type": "stream",
       "stream": "stdout",
       "text": [
        "Number of tweets containing http://bit.ly/S1HyX9  = 0\n",
        "\n"
       ]
      },
      {
       "output_type": "stream",
       "stream": "stdout",
       "text": [
        "Number of tweets containing http://1.usa.gov/YG08RH  = 0\n",
        "\n"
       ]
      },
      {
       "output_type": "stream",
       "stream": "stdout",
       "text": [
        "Number of tweets containing http://1.usa.gov/VmYZhb  = 0\n",
        "\n"
       ]
      },
      {
       "output_type": "stream",
       "stream": "stdout",
       "text": [
        "Number of tweets containing http://bit.ly/X7d1ce  = 0\n",
        "\n"
       ]
      },
      {
       "output_type": "stream",
       "stream": "stdout",
       "text": [
        "Number of tweets containing http://1.usa.gov/Vch1my  = 0\n",
        "\n"
       ]
      },
      {
       "output_type": "stream",
       "stream": "stdout",
       "text": [
        "Number of tweets containing http://bit.ly/ReM3xg  = 0\n",
        "\n"
       ]
      },
      {
       "output_type": "stream",
       "stream": "stdout",
       "text": [
        "Number of tweets containing http://1.usa.gov/VrOlsb  = 0\n",
        "\n"
       ]
      },
      {
       "output_type": "stream",
       "stream": "stdout",
       "text": [
        "Number of tweets containing http://1.usa.gov/Rq4Nc3  = 0\n",
        "\n"
       ]
      },
      {
       "output_type": "stream",
       "stream": "stdout",
       "text": [
        "Number of tweets containing http://1.usa.gov/UExXof  = 0\n",
        "\n"
       ]
      },
      {
       "output_type": "stream",
       "stream": "stdout",
       "text": [
        "Number of tweets containing http://1.usa.gov/wjIRxN  = 0\n",
        "\n"
       ]
      },
      {
       "output_type": "stream",
       "stream": "stdout",
       "text": [
        "Number of tweets containing http://1.usa.gov/RJIlvE  = 0\n",
        "\n"
       ]
      },
      {
       "output_type": "stream",
       "stream": "stdout",
       "text": [
        "Number of tweets containing http://1.usa.gov/TppZgO  = 0\n",
        "\n"
       ]
      },
      {
       "output_type": "stream",
       "stream": "stdout",
       "text": [
        "Number of tweets containing http://1.usa.gov/Ur2EMM  = 0\n",
        "\n"
       ]
      },
      {
       "output_type": "stream",
       "stream": "stdout",
       "text": [
        "Number of tweets containing http://1.usa.gov/U22GYP  = 0\n",
        "\n"
       ]
      },
      {
       "output_type": "stream",
       "stream": "stdout",
       "text": [
        "Number of tweets containing http://1.usa.gov/TZiDyI  = 0\n"
       ]
      },
      {
       "ename": "TwitterHTTPError",
       "evalue": "Twitter sent status 429 for URL: 1.1/search/tweets.json using parameters: (count=100&oauth_consumer_key=qAhZWyyxyi8MQZwxaCKojiC8O&oauth_nonce=1180506624806765349&oauth_signature_method=HMAC-SHA1&oauth_timestamp=1426943042&oauth_token=2892604311-sLujj8H3JB5oHbIVPGZhC2vkZYNbW3CJsh2LICs&oauth_version=1.0&q=http%3A%2F%2F1.usa.gov%2FWPGraQ&oauth_signature=T2KJcF6yemouUCKSo5lDPGbahyk%3D)\ndetails: {\"errors\":[{\"message\":\"Rate limit exceeded\",\"code\":88}]}",
       "output_type": "pyerr",
       "traceback": [
        "\u001b[1;31m---------------------------------------------------------------------------\u001b[0m\n\u001b[1;31mTwitterHTTPError\u001b[0m                          Traceback (most recent call last)",
        "\u001b[1;32m<ipython-input-118-2823680066b9>\u001b[0m in \u001b[0;36m<module>\u001b[1;34m()\u001b[0m\n\u001b[0;32m     43\u001b[0m         \u001b[1;32mbreak\u001b[0m\u001b[1;33m\u001b[0m\u001b[0m\n\u001b[0;32m     44\u001b[0m     \u001b[1;31m#search tweets for the gov URL found in the usa.gov file\u001b[0m\u001b[1;33m\u001b[0m\u001b[1;33m\u001b[0m\u001b[0m\n\u001b[1;32m---> 45\u001b[1;33m     \u001b[0mtweets\u001b[0m \u001b[1;33m=\u001b[0m \u001b[0mtwitter_api\u001b[0m\u001b[1;33m.\u001b[0m\u001b[0msearch\u001b[0m\u001b[1;33m.\u001b[0m\u001b[0mtweets\u001b[0m\u001b[1;33m(\u001b[0m\u001b[0mq\u001b[0m\u001b[1;33m=\u001b[0m\u001b[0mu\u001b[0m\u001b[1;33m,\u001b[0m \u001b[0mcount\u001b[0m\u001b[1;33m=\u001b[0m\u001b[0mcount\u001b[0m\u001b[1;33m)\u001b[0m\u001b[1;33m\u001b[0m\u001b[0m\n\u001b[0m\u001b[0;32m     46\u001b[0m     \u001b[1;31m#print json.dumps(tweets, indent=1)\u001b[0m\u001b[1;33m\u001b[0m\u001b[1;33m\u001b[0m\u001b[0m\n\u001b[0;32m     47\u001b[0m     \u001b[0mstop\u001b[0m \u001b[1;33m=\u001b[0m \u001b[0mlen\u001b[0m\u001b[1;33m(\u001b[0m\u001b[0mtweets\u001b[0m\u001b[1;33m[\u001b[0m\u001b[1;34m'statuses'\u001b[0m\u001b[1;33m]\u001b[0m\u001b[1;33m)\u001b[0m\u001b[1;33m\u001b[0m\u001b[0m\n",
        "\u001b[1;32mC:\\Users\\MisaelNMelissa\\Anaconda\\lib\\site-packages\\twitter\\api.pyc\u001b[0m in \u001b[0;36m__call__\u001b[1;34m(self, **kwargs)\u001b[0m\n\u001b[0;32m    301\u001b[0m             \u001b[1;32mreturn\u001b[0m \u001b[0mself\u001b[0m\u001b[1;33m.\u001b[0m\u001b[0m_handle_response_with_retry\u001b[0m\u001b[1;33m(\u001b[0m\u001b[0mreq\u001b[0m\u001b[1;33m,\u001b[0m \u001b[0muri\u001b[0m\u001b[1;33m,\u001b[0m \u001b[0marg_data\u001b[0m\u001b[1;33m,\u001b[0m \u001b[0m_timeout\u001b[0m\u001b[1;33m)\u001b[0m\u001b[1;33m\u001b[0m\u001b[0m\n\u001b[0;32m    302\u001b[0m         \u001b[1;32melse\u001b[0m\u001b[1;33m:\u001b[0m\u001b[1;33m\u001b[0m\u001b[0m\n\u001b[1;32m--> 303\u001b[1;33m             \u001b[1;32mreturn\u001b[0m \u001b[0mself\u001b[0m\u001b[1;33m.\u001b[0m\u001b[0m_handle_response\u001b[0m\u001b[1;33m(\u001b[0m\u001b[0mreq\u001b[0m\u001b[1;33m,\u001b[0m \u001b[0muri\u001b[0m\u001b[1;33m,\u001b[0m \u001b[0marg_data\u001b[0m\u001b[1;33m,\u001b[0m \u001b[0m_timeout\u001b[0m\u001b[1;33m)\u001b[0m\u001b[1;33m\u001b[0m\u001b[0m\n\u001b[0m\u001b[0;32m    304\u001b[0m \u001b[1;33m\u001b[0m\u001b[0m\n\u001b[0;32m    305\u001b[0m     \u001b[1;32mdef\u001b[0m \u001b[0m_handle_response\u001b[0m\u001b[1;33m(\u001b[0m\u001b[0mself\u001b[0m\u001b[1;33m,\u001b[0m \u001b[0mreq\u001b[0m\u001b[1;33m,\u001b[0m \u001b[0muri\u001b[0m\u001b[1;33m,\u001b[0m \u001b[0marg_data\u001b[0m\u001b[1;33m,\u001b[0m \u001b[0m_timeout\u001b[0m\u001b[1;33m=\u001b[0m\u001b[0mNone\u001b[0m\u001b[1;33m)\u001b[0m\u001b[1;33m:\u001b[0m\u001b[1;33m\u001b[0m\u001b[0m\n",
        "\u001b[1;32mC:\\Users\\MisaelNMelissa\\Anaconda\\lib\\site-packages\\twitter\\api.pyc\u001b[0m in \u001b[0;36m_handle_response\u001b[1;34m(self, req, uri, arg_data, _timeout)\u001b[0m\n\u001b[0;32m    334\u001b[0m                 \u001b[1;32mreturn\u001b[0m \u001b[1;33m[\u001b[0m\u001b[1;33m]\u001b[0m\u001b[1;33m\u001b[0m\u001b[0m\n\u001b[0;32m    335\u001b[0m             \u001b[1;32melse\u001b[0m\u001b[1;33m:\u001b[0m\u001b[1;33m\u001b[0m\u001b[0m\n\u001b[1;32m--> 336\u001b[1;33m                 \u001b[1;32mraise\u001b[0m \u001b[0mTwitterHTTPError\u001b[0m\u001b[1;33m(\u001b[0m\u001b[0me\u001b[0m\u001b[1;33m,\u001b[0m \u001b[0muri\u001b[0m\u001b[1;33m,\u001b[0m \u001b[0mself\u001b[0m\u001b[1;33m.\u001b[0m\u001b[0mformat\u001b[0m\u001b[1;33m,\u001b[0m \u001b[0marg_data\u001b[0m\u001b[1;33m)\u001b[0m\u001b[1;33m\u001b[0m\u001b[0m\n\u001b[0m\u001b[0;32m    337\u001b[0m \u001b[1;33m\u001b[0m\u001b[0m\n\u001b[0;32m    338\u001b[0m     \u001b[1;32mdef\u001b[0m \u001b[0m_handle_response_with_retry\u001b[0m\u001b[1;33m(\u001b[0m\u001b[0mself\u001b[0m\u001b[1;33m,\u001b[0m \u001b[0mreq\u001b[0m\u001b[1;33m,\u001b[0m \u001b[0muri\u001b[0m\u001b[1;33m,\u001b[0m \u001b[0marg_data\u001b[0m\u001b[1;33m,\u001b[0m \u001b[0m_timeout\u001b[0m\u001b[1;33m=\u001b[0m\u001b[0mNone\u001b[0m\u001b[1;33m)\u001b[0m\u001b[1;33m:\u001b[0m\u001b[1;33m\u001b[0m\u001b[0m\n",
        "\u001b[1;31mTwitterHTTPError\u001b[0m: Twitter sent status 429 for URL: 1.1/search/tweets.json using parameters: (count=100&oauth_consumer_key=qAhZWyyxyi8MQZwxaCKojiC8O&oauth_nonce=1180506624806765349&oauth_signature_method=HMAC-SHA1&oauth_timestamp=1426943042&oauth_token=2892604311-sLujj8H3JB5oHbIVPGZhC2vkZYNbW3CJsh2LICs&oauth_version=1.0&q=http%3A%2F%2F1.usa.gov%2FWPGraQ&oauth_signature=T2KJcF6yemouUCKSo5lDPGbahyk%3D)\ndetails: {\"errors\":[{\"message\":\"Rate limit exceeded\",\"code\":88}]}"
       ]
      }
     ],
     "prompt_number": 118
    },
    {
     "cell_type": "code",
     "collapsed": false,
     "input": [],
     "language": "python",
     "metadata": {},
     "outputs": [],
     "prompt_number": 59
    },
    {
     "cell_type": "code",
     "collapsed": false,
     "input": [],
     "language": "python",
     "metadata": {},
     "outputs": []
    }
   ],
   "metadata": {}
  }
 ]
}