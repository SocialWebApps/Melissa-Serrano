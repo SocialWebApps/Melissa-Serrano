{
 "metadata": {
  "name": "",
  "signature": "sha256:ca6b687f0549b800db5dd6760b4f966286d61c5fc5e3c120d92dd1ebc4f0a9d0"
 },
 "nbformat": 3,
 "nbformat_minor": 0,
 "worksheets": [
  {
   "cells": [
    {
     "cell_type": "markdown",
     "metadata": {},
     "source": [
      "# Homework 2 - Option 1 #\n",
      "### Melissa Serrano ###\n",
      "I took the first five files from http://1usagov.measuredvoice.com/2013/.  By importing pandas I was able to put each file into a dataframe and then append them so that after reading in all five files, all the data is in one large dataframe.  Then I used pygmaps https://code.google.com/p/pygmaps/ to draw a map with the coordinates of all those in the dataframe.  I did not include any perturbation because when you zoom in on the map you are actually given pinpoints rather than a big round blob."
     ]
    },
    {
     "cell_type": "code",
     "collapsed": false,
     "input": [
      "#Melissa Serrano - Homework 2 Social Web Mining\n",
      "import pandas as pd\n",
      "import numpy as np\n",
      "import json\n",
      "import pygmaps\n",
      "import webbrowser\n",
      "\n",
      "from pandas import DataFrame, Series\n",
      "\n",
      "for i in range(1,6):\n",
      "    if i == 1:\n",
      "        file = \"usagov_bitly_data2012-12-31-1356981052.txt\"\n",
      "    if i == 2:\n",
      "        file = \"usagov_bitly_data2012-12-31-1356984653.txt\"\n",
      "    if i == 3:\n",
      "        file = \"usagov_bitly_data2012-12-31-1356988258.txt\"\n",
      "    if i == 4:\n",
      "        file = \"usagov_bitly_data2012-12-31-1356991858.txt\"\n",
      "    if i == 5:\n",
      "        file = \"usagov_bitly_data2013-05-17-1368832207.txt\"\n",
      "    print file\n",
      "    open(file).readline()\n",
      "    records = [json.loads(line) for line in open(file)]\n",
      "    json.dumps(records[0], indent=1)\n",
      "    lat_lon = [rec['ll'] for rec in records if 'll' in rec]\n",
      "    print 'count ' + str(len(lat_lon)) \n",
      "    if i == 1:\n",
      "        #Create Main DataFrame and Add first set of lat_lon\n",
      "        dfMain = DataFrame(data = lat_lon, columns=['Latitude', 'Longitude'] )\n",
      "    else:\n",
      "        #Append DataFrames to Main DataFrame\n",
      "        df = DataFrame(data = lat_lon, columns=['Latitude', 'Longitude'] )\n",
      "        dfMain = dfMain.append(df)\n",
      "        if i == 5:\n",
      "            print 'total count ' + str(len(dfMain))\n",
      " \n",
      "            \n",
      "#Create a google map with the origin in the center of the laid out world\n",
      "#zoom is 2 so that we can see all countries\n",
      "mymap = pygmaps.maps(0, 0, 3)\n",
      "\n",
      "#Go through all records of latitude and longitude stored in the dataframe\n",
      "for i in range(0,11477):\n",
      "    el = dfMain.iloc[i]\n",
      "    lat = el[0]\n",
      "    lon = el[1]\n",
      "    #print lat, lon\n",
      "    #place a point for each coordinate on the google map\n",
      "    mymap.addpoint(lat, lon, \"#FF0000\")\n",
      "    \n",
      "#draw the google map with all our coordinates on it \n",
      "#and save it in this directory    \n",
      "mymap.draw('./mymap.html')\n",
      "#open this file in the browser automatically\n",
      "webbrowser.open_new('mymap.html')\n",
      "\n"
     ],
     "language": "python",
     "metadata": {},
     "outputs": [
      {
       "output_type": "stream",
       "stream": "stdout",
       "text": [
        "usagov_bitly_data2012-12-31-1356981052.txt\n",
        "count 2241"
       ]
      },
      {
       "output_type": "stream",
       "stream": "stdout",
       "text": [
        "\n",
        "usagov_bitly_data2012-12-31-1356984653.txt\n",
        "count 2012"
       ]
      },
      {
       "output_type": "stream",
       "stream": "stdout",
       "text": [
        "\n",
        "usagov_bitly_data2012-12-31-1356988258.txt\n",
        "count 1898"
       ]
      },
      {
       "output_type": "stream",
       "stream": "stdout",
       "text": [
        "\n",
        "usagov_bitly_data2012-12-31-1356991858.txt\n",
        "count 2122"
       ]
      },
      {
       "output_type": "stream",
       "stream": "stdout",
       "text": [
        "\n",
        "usagov_bitly_data2013-05-17-1368832207.txt\n",
        "count 3204"
       ]
      },
      {
       "output_type": "stream",
       "stream": "stdout",
       "text": [
        "\n",
        "total count 11477\n"
       ]
      },
      {
       "metadata": {},
       "output_type": "pyout",
       "prompt_number": 1,
       "text": [
        "True"
       ]
      }
     ],
     "prompt_number": 1
    },
    {
     "cell_type": "code",
     "collapsed": false,
     "input": [],
     "language": "python",
     "metadata": {},
     "outputs": [],
     "prompt_number": 19
    },
    {
     "cell_type": "code",
     "collapsed": false,
     "input": [],
     "language": "python",
     "metadata": {},
     "outputs": []
    }
   ],
   "metadata": {}
  }
 ]
}